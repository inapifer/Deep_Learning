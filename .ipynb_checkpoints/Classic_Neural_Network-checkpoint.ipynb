{
 "cells": [
  {
   "cell_type": "code",
   "execution_count": 1,
   "metadata": {},
   "outputs": [],
   "source": [
    "#Importing numpy as the main library\n",
    "import numpy as np\n",
    "# I import main_functions which will have functions such as activation functions and others\n",
    "from main_functions import *"
   ]
  },
  {
   "cell_type": "code",
   "execution_count": 2,
   "metadata": {},
   "outputs": [],
   "source": [
    "# Initializing weights randomly by neurons per layer and the number of layers\n",
    "def init_weights(number_layers, neurons_by_layer):\n",
    "    #Initializing weights and biases.\n",
    "    weights = {}\n",
    "    biases = {}\n",
    "    \n",
    "    #Doing a for loop across all the layers.\n",
    "    for l in range(1, number_layers):\n",
    "        #Returning random values of weights from the layer number l\n",
    "        weights[\"W\" + str(l)] = np.random.rand(neurons_by_layer[l], neurons_by_layer[l-1])\n",
    "        biases[\"b\" + str(l)] = np.random.rand(neurons_by_layer[l], 1)\n",
    "    \n",
    "    return weights, biases    "
   ]
  },
  {
   "cell_type": "code",
   "execution_count": 3,
   "metadata": {},
   "outputs": [],
   "source": [
    "# Doing a function that performs a whole forward iteration for the Neural Network\n",
    "def forward_iteration(X, weights, biases, activation_names, number_layers, neurons_by_layer):\n",
    "    \"\"\"This function receives the inputs X (A[0]), the weights from the whole network by a dictionary,\n",
    "    the biases by a dictionary and the activation names in a list from each layer. It keeps track \n",
    "    of the linear activations and the activations of the whole network in order to use it in the backpropagation\n",
    "     algorithm and finally it gives the final result of the network\"\"\"\n",
    "    \n",
    "    # I begin the dictionary of the activated neurons and save A[0] by the input of the network.\n",
    "    A_cache = {\"A0\": X}\n",
    "    Z_cache = {}\n",
    "    \n",
    "    for l in range(1, number_layers):\n",
    "        #Because the activation names start from the layer 1 I have to call as activation_name of layer 1 =\n",
    "        # activation_names[0], activation_names of layer 2 = activation_names[1] ...\n",
    "        activation_name = activation_names[l-1]\n",
    "        \n",
    "        #The weights and  biases defined by the dictionaries \n",
    "        A_prev = A_cache[\"A\" + str(l-1)]\n",
    "        W = weights[\"W\" + str(l)]\n",
    "        b = biases[\"b\" + str(l)]\n",
    "        \n",
    "        #Doing the linear activation and the forward activation in the layer l. It's worth to notice that I need\n",
    "        # to get Z because I will need those values for the backpropagation algorithm.\n",
    "        Z = linear_activation(W, A_prev, b)\n",
    "        A = forward_activation(W, A_prev, b, activation_name)\n",
    "        # Now I can save those values in the caches of A and Z\n",
    "        A_cache[\"A\" + str(l)] = A\n",
    "        Z_cache[\"Z\" +str(l)] = Z\n",
    "        \n",
    "  # Finally, I save the final value of the network Y, which is the value of the activation function in the last layer.    \n",
    "        \n",
    "    Y_hat = A_cache[\"A\" + str(number_layers-1)]\n",
    "        \n",
    "    return Z_cache, A_cache, Y_hat    \n",
    "    \n"
   ]
  },
  {
   "cell_type": "code",
   "execution_count": 6,
   "metadata": {},
   "outputs": [],
   "source": [
    "# Note: You still need to do the loss function and calculate the cost function.\n",
    "def cost_function_and_first_derivative(Y_hat, Y, name_loss='binary_class'):\n",
    "    \"\"\"In this function I combine the function cost_function from the main_functions script\n",
    "    and I calculate the first derivative of the cost function with respect to A[L] in order to start\n",
    "    the backpropagation algorithm.\"\"\"\n",
    "    \n",
    "    cost = cost_function(Y_hat, Y, name_loss)\n",
    "    dA_L = derivative_cost_logistic(Y_hat, Y)\n",
    "    \n",
    "    # I return the cost of the network and the derivative dA_L(Derivative of the cost function with respect\n",
    "    # to A[L])\n",
    "    return cost, dA_L"
   ]
  },
  {
   "cell_type": "code",
   "execution_count": 12,
   "metadata": {},
   "outputs": [],
   "source": [
    "def backward_iteration(dA_L, Z_cache, A_cache, activation_names, number_layers, neurons_by_layer):\n",
    "    # I assert that the number of layers minus 1 is equal to the length of the activation names and\n",
    "    # the length of neurons_by_layer is equal to number_layers\n",
    "    assert ((number_layers-1)==len(activation_names)) and (number_layers==len(neurons_by_layer)),\\\n",
    "    \"The number of layers must be equal to the length of neurons_by_layer and the length of activation_names\\\n",
    "    must be equal to the number of layers minus 1.\"\n",
    "    #I define the first dA as dA_L.\n",
    "    dA = dA_L\n",
    "    # Note: I don't still know if I need all these parameters.\n",
    "    pass"
   ]
  },
  {
   "cell_type": "markdown",
   "metadata": {},
   "source": [
    "Since I assume that I am going to finish the network with the sigmoid function, I will use the next loss function:\n",
    "\n",
    "$  L(\\hat{Y}, Y) = -(y\\log(\\hat{y}) + (1-y)\\log(1-\\hat{y}))$\n",
    "\n",
    "$ Cost = J(w, b) = \\frac{1}{m}\\sum_{i=1}^{m} L(\\hat{y}^{(i)}, y^{(i)})$"
   ]
  },
  {
   "cell_type": "markdown",
   "metadata": {},
   "source": [
    "$$ da^{[L]} = \\frac{-y}{\\hat{y}} + \\frac{(1-y)}{(1-\\hat{y})} $$\n",
    "$$ \\text{Being } \\hat{y} \\equiv \\text{Activation from the last layer } a^{[L]}$$"
   ]
  },
  {
   "cell_type": "code",
   "execution_count": 4,
   "metadata": {},
   "outputs": [],
   "source": [
    "# Here I start the backpropagation algorithm.\n",
    "\n",
    "\n"
   ]
  },
  {
   "cell_type": "code",
   "execution_count": 59,
   "metadata": {},
   "outputs": [],
   "source": [
    "#Draft where I implement ideas\n",
    "# I use the seed to maintain the random numbers fixed\n",
    "np.random.seed(2)\n",
    "X = np.random.randn(5,12)*10\n",
    "neurons_by_layer = [5, 4, 4, 3, 1]\n",
    "number_layers = len(neurons_by_layer)\n",
    "activation_names = ['relu', 'relu', 'relu', 'sigmoid']\n",
    "\n",
    "weights, biases = init_weights(number_layers, neurons_by_layer)\n",
    "\n",
    "Z_cache, A_cache, Y_hat = forward_iteration(X, weights, biases, activation_names, number_layers, neurons_by_layer)\n",
    "n_hat, m_hat = Y_hat.shape\n",
    "Y = np.random.randint(low=0, high=2, size=(n_hat, m_hat))\n",
    "\n",
    "\n",
    "cost, dA_L = cost_function_and_first_derivative(Y_hat, Y, name_loss='binary_class')\n",
    "\n"
   ]
  },
  {
   "cell_type": "code",
   "execution_count": 101,
   "metadata": {},
   "outputs": [
    {
     "ename": "AssertionError",
     "evalue": "Errorrrrrrr ina",
     "output_type": "error",
     "traceback": [
      "\u001b[0;31m---------------------------------------------------------------------------\u001b[0m",
      "\u001b[0;31mAssertionError\u001b[0m                            Traceback (most recent call last)",
      "\u001b[0;32m<ipython-input-101-0edac17a38f6>\u001b[0m in \u001b[0;36m<module>\u001b[0;34m\u001b[0m\n\u001b[0;32m----> 1\u001b[0;31m \u001b[0;32massert\u001b[0m \u001b[0;36m3\u001b[0m\u001b[0;34m==\u001b[0m\u001b[0;36m3\u001b[0m \u001b[0;32mand\u001b[0m \u001b[0;36m2\u001b[0m\u001b[0;34m==\u001b[0m\u001b[0;36m3\u001b[0m\u001b[0;34m,\u001b[0m \u001b[0;34m'Errorrrrrrr ina'\u001b[0m\u001b[0;34m\u001b[0m\u001b[0;34m\u001b[0m\u001b[0m\n\u001b[0m",
      "\u001b[0;31mAssertionError\u001b[0m: Errorrrrrrr ina"
     ]
    }
   ],
   "source": [
    "assert 3==3 and 2==3, 'Errorrrrrrr ina'"
   ]
  },
  {
   "cell_type": "code",
   "execution_count": 111,
   "metadata": {},
   "outputs": [
    {
     "name": "stdout",
     "output_type": "stream",
     "text": [
      "[(3, 'sigmoid'), (2, 'relu'), (1, 'relu'), (0, 'relu')]\n"
     ]
    }
   ],
   "source": [
    "reversed_activation_names = list(reversed(list(enumerate(activation_names))))\n",
    "print(reversed_activation_names)\n"
   ]
  },
  {
   "cell_type": "code",
   "execution_count": 93,
   "metadata": {},
   "outputs": [
    {
     "name": "stdout",
     "output_type": "stream",
     "text": [
      "[(0, 'relu'), (1, 'relu'), (2, 'relu'), (3, 'sigmoid')]\n"
     ]
    }
   ],
   "source": [
    "print(list(enumerate(activation_names)))"
   ]
  }
 ],
 "metadata": {
  "kernelspec": {
   "display_name": "Python 3",
   "language": "python",
   "name": "python3"
  },
  "language_info": {
   "codemirror_mode": {
    "name": "ipython",
    "version": 3
   },
   "file_extension": ".py",
   "mimetype": "text/x-python",
   "name": "python",
   "nbconvert_exporter": "python",
   "pygments_lexer": "ipython3",
   "version": "3.8.5"
  }
 },
 "nbformat": 4,
 "nbformat_minor": 4
}
