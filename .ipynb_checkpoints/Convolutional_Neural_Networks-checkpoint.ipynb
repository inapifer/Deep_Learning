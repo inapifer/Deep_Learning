{
 "cells": [
  {
   "cell_type": "code",
   "execution_count": 1,
   "metadata": {},
   "outputs": [],
   "source": [
    "import numpy as np\n",
    "from main_functions_convnets import *"
   ]
  },
  {
   "cell_type": "code",
   "execution_count": 71,
   "metadata": {},
   "outputs": [
    {
     "name": "stdout",
     "output_type": "stream",
     "text": [
      "/home/inapifer/Desktop/Deep_Learning/Data_cats_dogs/training_set/cats/cat.1000.jpg\n",
      "(149, 150, 3)\n"
     ]
    }
   ],
   "source": [
    "# Now we are going to load some data of cats and dogs to try our algorithm.\n",
    "# I first import the libraries I need to interact with the directories.\n",
    "import os\n",
    "import matplotlib.pyplot as plt\n",
    "import matplotlib.image as img\n",
    "import cv2\n",
    "\n",
    "current_dir = '/home/inapifer/Desktop/Deep_Learning'\n",
    "i = 1000\n",
    "\n",
    "rute_to_sample_cat = 'Data_cats_dogs/training_set/cats/cat.' + str(i) + '.jpg'\n",
    "\n",
    "\n",
    "abs_rute_cat = os.path.join(current_dir, rute_to_sample_cat)\n",
    "\n",
    "print(abs_rute_cat)\n",
    "\n",
    "\n",
    "cat_matrix = img.imread(abs_rute_cat)\n"
   ]
  },
  {
   "cell_type": "code",
   "execution_count": 59,
   "metadata": {},
   "outputs": [],
   "source": [
    "def convolution(image_input, kernel, stride=1, padding='valid', form='RGB'):\n",
    "    \n",
    "    #First we calculate what is the height and width of the input. We consider that the input is given by the shape\n",
    "    # (height, width, depth)\n",
    "    height_image, width_image, _ = image_input.shape\n",
    "    \n",
    "    #Now we calculate f from the kernel\n",
    "    f, _, _ = kernel.shape\n",
    "    \n",
    "    # The padding is valid if we don't fill the image with 0's on its borders to manipulate dimensions.\n",
    "\n",
    "    if padding == 'valid':\n",
    "        p = 0\n",
    "    \n",
    "    # Here we calculate the shape of the output and we creatr\n",
    "    \n",
    "    height_output, width_output = int((height_image + 2*p -f)/stride + 1), int((width_image + 2*p - f)/stride + 1)\n",
    "    # I create the output of the convolution after having considered f, the stride and the padding.\n",
    "    conv_output = np.zeros([height_output, width_output])\n",
    "    \n",
    "    \n",
    "    # Now we go in a for loop going through columns and the going down\n",
    "    \n",
    "    for height in range(height_output):\n",
    "        # Now we go through the columns\n",
    "        for width in range(width_output):\n",
    "            \n",
    "            #The current portion of the convolution will be image[height:(height+f), width:(width+f), :]\n",
    "            current_portion = image_input[(height*stride):(height*stride+f), (width*stride):(width*stride+f),:]\n",
    "            #Now I do the convolution operation throughout the whole image.\n",
    "            conv_output[height, width] = basic_convolution(current_portion, kernel)\n",
    "                                         \n",
    "    return conv_output\n",
    "    "
   ]
  },
  {
   "cell_type": "code",
   "execution_count": null,
   "metadata": {},
   "outputs": [],
   "source": []
  },
  {
   "cell_type": "code",
   "execution_count": 70,
   "metadata": {},
   "outputs": [
    {
     "data": {
      "text/plain": [
       "(4, 3)"
      ]
     },
     "execution_count": 70,
     "metadata": {},
     "output_type": "execute_result"
    }
   ],
   "source": [
    "image = np.random.randn(10,9,3)\n",
    "kernel = np.random.randn(4,4,3)\n",
    "\n",
    "convolution(image, kernel, stride=2).shape\n"
   ]
  }
 ],
 "metadata": {
  "kernelspec": {
   "display_name": "Python 3",
   "language": "python",
   "name": "python3"
  },
  "language_info": {
   "codemirror_mode": {
    "name": "ipython",
    "version": 3
   },
   "file_extension": ".py",
   "mimetype": "text/x-python",
   "name": "python",
   "nbconvert_exporter": "python",
   "pygments_lexer": "ipython3",
   "version": "3.8.3"
  }
 },
 "nbformat": 4,
 "nbformat_minor": 4
}
