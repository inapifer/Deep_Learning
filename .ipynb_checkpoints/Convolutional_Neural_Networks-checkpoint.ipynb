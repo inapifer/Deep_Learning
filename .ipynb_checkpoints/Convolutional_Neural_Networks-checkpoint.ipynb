{
 "cells": [
  {
   "cell_type": "code",
   "execution_count": 1,
   "metadata": {},
   "outputs": [],
   "source": [
    "import numpy as np\n",
    "from main_functions_convnets import *"
   ]
  },
  {
   "cell_type": "code",
   "execution_count": 3,
   "metadata": {},
   "outputs": [],
   "source": [
    "# Now we are going to load some data of cats and dogs to try our algorithm.\n",
    "# I first import the libraries I need to interact with the directories.\n",
    "import os\n",
    "import matplotlib.pyplot as plt\n",
    "import matplotlib.image as img\n",
    "import cv2\n",
    "\n",
    "current_dir = '/home/inapifer/Desktop/Deep_Learning'\n",
    "i = 1000\n",
    "\n",
    "rute_to_sample_cat = 'Data_cats_dogs/training_set/cats/cat.' + str(i) + '.jpg'\n",
    "\n",
    "\n",
    "abs_rute_cat = os.path.join(current_dir, rute_to_sample_cat)\n",
    "\n",
    "cat_matrix = img.imread(abs_rute_cat)\n"
   ]
  },
  {
   "cell_type": "code",
   "execution_count": 56,
   "metadata": {},
   "outputs": [],
   "source": [
    "def padding(X, pad=0):\n",
    "    \"\"\" A function which pads a tensor of dimension 4, being (m, height, width, number_channels) the form of the \n",
    "    tensor. I want to pad along the axis of height and width. \"\"\"\n",
    "    \n",
    "    X_pad = np.pad(X,((0,0), (pad,pad), (pad,pad), (0,0)), 'constant', constant_values=0)\n",
    "    \n",
    "    return X_pad\n",
    "\n",
    "pad= 1\n",
    "X = np.ones([3,2,2,3])\n",
    "X_pad = padding(X)"
   ]
  },
  {
   "cell_type": "code",
   "execution_count": 32,
   "metadata": {},
   "outputs": [
    {
     "name": "stdout",
     "output_type": "stream",
     "text": [
      "[[[1 1 0 1]\n",
      "  [1 2 0 0]\n",
      "  [2 1 2 1]]\n",
      "\n",
      " [[1 0 0 1]\n",
      "  [2 1 1 0]\n",
      "  [1 0 2 2]]\n",
      "\n",
      " [[1 1 0 1]\n",
      "  [2 0 1 1]\n",
      "  [0 2 1 0]]] \n",
      "\n",
      "[[[[1 0 0]\n",
      "   [1 1 0]\n",
      "   [0 1 0]\n",
      "   [1 0 2]]\n",
      "\n",
      "  [[1 2 0]\n",
      "   [2 1 2]\n",
      "   [0 0 2]\n",
      "   [0 1 2]]\n",
      "\n",
      "  [[2 0 1]\n",
      "   [1 2 0]\n",
      "   [2 1 1]\n",
      "   [1 1 2]]]\n",
      "\n",
      "\n",
      " [[[1 1 0]\n",
      "   [0 1 0]\n",
      "   [0 1 2]\n",
      "   [1 0 2]]\n",
      "\n",
      "  [[2 1 1]\n",
      "   [1 0 0]\n",
      "   [1 0 2]\n",
      "   [0 0 1]]\n",
      "\n",
      "  [[1 2 0]\n",
      "   [0 1 2]\n",
      "   [2 1 0]\n",
      "   [2 1 2]]]\n",
      "\n",
      "\n",
      " [[[1 0 1]\n",
      "   [1 2 0]\n",
      "   [0 2 2]\n",
      "   [1 0 2]]\n",
      "\n",
      "  [[2 2 0]\n",
      "   [0 1 1]\n",
      "   [1 0 0]\n",
      "   [1 1 2]]\n",
      "\n",
      "  [[0 1 2]\n",
      "   [2 0 1]\n",
      "   [1 0 0]\n",
      "   [0 2 0]]]]\n"
     ]
    }
   ],
   "source": [
    "np.random.seed(1)\n",
    "\n",
    "f = 3\n",
    "n_c_prev = 4\n",
    "n_c = 3\n",
    "\n",
    "\n",
    "W = np.random.randint(low=0, high=3, size=(f, f, n_c_prev,n_c))\n",
    "print(W[:,:,:,0], '\\n')\n",
    "print(W)"
   ]
  },
  {
   "cell_type": "code",
   "execution_count": 33,
   "metadata": {},
   "outputs": [],
   "source": [
    "def convolution(A_prev_sample, kernel, stride=1, padding='valid'):\n",
    "    \"\"\"A function that implements a convolution of a sample of the dataset. The A_prev_sample must be a tensor of dim 3 \"\"\"\n",
    "    \n",
    "    #First we calculate what is the height and width of the input. We consider that the input is given by the shape\n",
    "    # (height, width, depth)\n",
    "    height_input, width_input, depth = A_prev_sample.shape\n",
    "    \n",
    "    #Now we calculate f from the kernel\n",
    "    f, _, _ = kernel.shape\n",
    "    \n",
    "    # The padding is valid if we don't fill the image with 0's on its borders to manipulate dimensions.\n",
    "\n",
    "    if padding == 'valid':\n",
    "        pad = 0\n",
    "    # If the padding is same it means I am calculating a pad so the input is the same as the output.    \n",
    "    elif padding == 'same':\n",
    "        pad = int((f-1)/2)\n",
    "    \n",
    "    # Here we calculate the shape of the output and we creatr\n",
    "    \n",
    "    height_output, width_output = int((height_input + 2*pad - f)/stride + 1), int((width_input + 2*pad - f)/stride + 1)\n",
    "    # I create the output of the convolution after having considered f, the stride and the padding.\n",
    "    conv_output = np.zeros([height_output, width_output])\n",
    "    \n",
    "    \n",
    "    # Now we go in a for loop going through columns and the going down\n",
    "    \n",
    "    for height in range(height_output):\n",
    "        # Now we go through the columns\n",
    "        for width in range(width_output):\n",
    "            \n",
    "            #The current portion of the convolution will be image[height:(height+f), width:(width+f), :]\n",
    "            current_portion = A_prev_sample[(height*stride):(height*stride+f), (width*stride):(width*stride+f),:]\n",
    "            \n",
    "            #Now I do the convolution operation throughout the whole input calling the function from the\n",
    "            # main_functions_conv script.\n",
    "            conv_output[height, width] = basic_convolution(current_portion, kernel)\n",
    "                                         \n",
    "    return conv_output\n",
    "    "
   ]
  },
  {
   "cell_type": "code",
   "execution_count": 35,
   "metadata": {},
   "outputs": [],
   "source": [
    "def convolution_forward(A_prev, W, stride=1, padding='valid'):\n",
    "    \"\"\"A function that takes the m samples of A_prev, all the filters from W and does an iteration in one\n",
    "    layer of a convolution.\"\"\"\n",
    "    \n",
    "    # First we calculate the dimensions of A_prev --> (m, n_H_prev, n_W_prev, n_c_prev)\n",
    "    m, n_H_prev, n_W_prev, n_C_prev_A_prev = A_prev.shape\n",
    "    \n",
    "    # Now we calculate the dimensions of the filters W --> (f, f, n_c_prev, n_c)\n",
    "    f, _, n_C_prev_W, n_C = W.shape\n",
    "    \n",
    "    #If the padding is valid, then the pad is equals to 0.\n",
    "    if padding == 'valid':\n",
    "        pad = 0\n",
    "    \n",
    "    # Now we assert that the number of channels of A n_c_prev and of filters are the same.\n",
    "    assert n_C_prev_A_prev == n_C_prev_W, \"The number of channels of the previous layer must be the same\\\n",
    "    in the kernels as well as in the activation A_prev.\"\n",
    "    \n",
    "    # Now we calculate the height and width of the output.\n",
    "    \n",
    "    n_H, n_W = int((n_H_prev + 2*pad - f)/stride + 1),\\\n",
    "        int((n_W_prev + 2*pad - f)/stride + 1)\n",
    "     \n",
    "    # We now have the dimensions of the output. I will call it Z.\n",
    "    Z = np.zeros([m, n_H, n_W, n_C])\n",
    "    \n",
    "    return Z\n",
    "    \n",
    "    "
   ]
  },
  {
   "cell_type": "code",
   "execution_count": 55,
   "metadata": {},
   "outputs": [
    {
     "data": {
      "text/plain": [
       "array([[[0., 0., 0., 0., 0., 0., 0., 0.],\n",
       "        [0., 0., 0., 0., 0., 0., 0., 0.],\n",
       "        [0., 0., 0., 0., 0., 0., 0., 0.]],\n",
       "\n",
       "       [[0., 0., 0., 0., 0., 0., 0., 0.],\n",
       "        [0., 0., 0., 0., 0., 0., 0., 0.],\n",
       "        [0., 0., 0., 0., 0., 0., 0., 0.]],\n",
       "\n",
       "       [[0., 0., 0., 0., 0., 0., 0., 0.],\n",
       "        [0., 0., 0., 0., 0., 0., 0., 0.],\n",
       "        [0., 0., 0., 0., 0., 0., 0., 0.]],\n",
       "\n",
       "       [[0., 0., 0., 0., 0., 0., 0., 0.],\n",
       "        [0., 0., 0., 0., 0., 0., 0., 0.],\n",
       "        [0., 0., 0., 0., 0., 0., 0., 0.]]])"
      ]
     },
     "execution_count": 55,
     "metadata": {},
     "output_type": "execute_result"
    }
   ],
   "source": [
    "np.random.seed(1)\n",
    "m = 50\n",
    "n_H_prev = 5\n",
    "n_W_prev = 4\n",
    "n_C_prev = 3\n",
    "\n",
    "f = 2\n",
    "n_C = 8\n",
    "\n",
    "A_input = np.random.randint(low=0, high=3, size=(m, n_H_prev, n_W_prev, n_C_prev))\n",
    "W = np.random.randint(low=0, high=4, size=(f, f, n_C_prev, n_C))\n",
    "\n",
    "Z = convolution_forward(A_input, W, stride=1, padding='valid')\n",
    "Z[1]"
   ]
  },
  {
   "cell_type": "code",
   "execution_count": 72,
   "metadata": {},
   "outputs": [],
   "source": [
    "def max_pooling(A_prev, f, stride=1):\n",
    "    pass\n",
    "def avg_pooling(A_prev, f, stride=1):\n",
    "    pass\n",
    "\n"
   ]
  },
  {
   "cell_type": "code",
   "execution_count": 105,
   "metadata": {},
   "outputs": [
    {
     "name": "stdout",
     "output_type": "stream",
     "text": [
      "[[[1 4 2]\n",
      "  [0 1 1]]\n",
      "\n",
      " [[0 4 2]\n",
      "  [2 3 2]]]\n"
     ]
    },
    {
     "data": {
      "text/plain": [
       "3.0"
      ]
     },
     "execution_count": 105,
     "metadata": {},
     "output_type": "execute_result"
    }
   ],
   "source": [
    "np.random.seed(2)\n",
    "image = np.random.randn(10,9,3)\n",
    "kernel = np.random.randn(4,4,3)\n",
    "\n",
    "A = np.random.randint(low=0, high=5, size=(2,2,3))\n",
    "\n",
    "print(A)\n",
    "A[:,:,1].mean()\n"
   ]
  },
  {
   "cell_type": "code",
   "execution_count": 61,
   "metadata": {},
   "outputs": [
    {
     "data": {
      "text/plain": [
       "True"
      ]
     },
     "execution_count": 61,
     "metadata": {},
     "output_type": "execute_result"
    }
   ],
   "source": []
  }
 ],
 "metadata": {
  "kernelspec": {
   "display_name": "Python 3",
   "language": "python",
   "name": "python3"
  },
  "language_info": {
   "codemirror_mode": {
    "name": "ipython",
    "version": 3
   },
   "file_extension": ".py",
   "mimetype": "text/x-python",
   "name": "python",
   "nbconvert_exporter": "python",
   "pygments_lexer": "ipython3",
   "version": "3.8.3"
  }
 },
 "nbformat": 4,
 "nbformat_minor": 4
}
