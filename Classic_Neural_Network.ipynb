{
 "cells": [
  {
   "cell_type": "code",
   "execution_count": 1,
   "metadata": {},
   "outputs": [],
   "source": [
    "#Importing numpy as the main library\n",
    "import numpy as np\n",
    "# I import main_functions which will have functions such as activation functions and others\n",
    "from main_functions import *"
   ]
  },
  {
   "cell_type": "code",
   "execution_count": 2,
   "metadata": {},
   "outputs": [],
   "source": [
    "# Initializing weights randomly by neurons per layer and the number of layers\n",
    "def init_weights(number_layers, neurons_by_layer):\n",
    "    #Initializing weights and biases.\n",
    "    weights = {}\n",
    "    biases = {}\n",
    "    \n",
    "    #Doing a for loop across all the layers.\n",
    "    for l in range(1, number_layers):\n",
    "        #Returning random values of weights from the layer number l\n",
    "        weights[\"W\" + str(l)] = np.random.rand(neurons_by_layer[l], neurons_by_layer[l-1])\n",
    "        biases[\"b\" + str(l)] = np.random.rand(neurons_by_layer[l], 1)\n",
    "    \n",
    "    return weights, biases    "
   ]
  },
  {
   "cell_type": "code",
   "execution_count": 3,
   "metadata": {},
   "outputs": [],
   "source": [
    "# Doing a function that performs a whole forward iteration for the Neural Network\n",
    "def forward_iteration(X, weights, biases, activation_names, number_layers, neurons_by_layer):\n",
    "    \"\"\"This function receives the inputs X (A[0]), the weights from the whole network by a dictionary,\n",
    "    the biases by a dictionary and the activation names in a list from each layer. It keeps track \n",
    "    of the linear activations and the activations of the whole network in order to use it in the backpropagation\n",
    "     algorithm and finally it gives the final result of the network\"\"\"\n",
    "    \n",
    "    # I begin the dictionary of the activated neurons and save A[0] by the input of the network.\n",
    "    A_cache = {\"A0\": X}\n",
    "    Z_cache = {}\n",
    "    \n",
    "    for l in range(1, number_layers):\n",
    "        #Because the activation names start from the layer 1 I have to call as activation_name of layer 1 =\n",
    "        # activation_names[0], activation_names of layer 2 = activation_names[1] ...\n",
    "        activation_name = activation_names[l-1]\n",
    "        \n",
    "        #The weights and  biases defined by the dictionaries \n",
    "        A_prev = A_cache[\"A\" + str(l-1)]\n",
    "        W = weights[\"W\" + str(l)]\n",
    "        b = biases[\"b\" + str(l)]\n",
    "        \n",
    "        #Doing the linear activation and the forward activation in the layer l. It's worth to notice that I need\n",
    "        # to get Z because I will need those values for the backpropagation algorithm.\n",
    "        Z = linear_activation(W, A_prev, b)\n",
    "        A = forward_activation(W, A_prev, b, activation_name)\n",
    "        # Now I can save those values in the caches of A and Z\n",
    "        A_cache[\"A\" + str(l)] = A\n",
    "        Z_cache[\"Z\" +str(l)] = Z\n",
    "        \n",
    "  # Finally, I save the final value of the network Y, which is the value of the activation function in the last layer.    \n",
    "        \n",
    "    Y_hat = A_cache[\"A\" + str(number_layers-1)]\n",
    "        \n",
    "    return Z_cache, A_cache, Y_hat    \n",
    "    \n"
   ]
  },
  {
   "cell_type": "markdown",
   "metadata": {},
   "source": [
    "Since I assume that I am going to finish the network with the sigmoid function, I will use the next loss function:\n",
    "\n",
    "$  L(\\hat{Y}, Y) = -(y\\log(\\hat{y}) + (1-y)\\log(1-\\hat{y}))$\n",
    "\n",
    "$ Cost = J(w, b) = \\frac{1}{m}\\sum_{i=1}^{m} L(\\hat{y}^{(i)}, y^{(i)})$"
   ]
  },
  {
   "cell_type": "code",
   "execution_count": 4,
   "metadata": {},
   "outputs": [],
   "source": [
    "# Once the values have gone throught the network forward, I calculate the loss function.\n",
    "# Since I assume that the final activation function I will use will be the sigmoid\n",
    "def loss_function_logistic(Y_hat, Y):\n",
    "    # I make sure first that the dimensions of n(Number of features) and m(number of samples) are the same\n",
    "    # in the results and the labels\n",
    "    n, m = np.shape(Y)\n",
    "    n_hat, m_hat = np.shape(Y_hat)\n",
    "    assert(n==n_hat and m==m_hat)\n",
    "    \n",
    "    L = -(Y*(np.log(Y_hat)) + (1-Y)*(np.log(1-Y_hat)))\n",
    "    \n",
    "    return L\n",
    "\n",
    "# Now I develop the cost function\n",
    "def Cost_function(Y_hat, Y):\n",
    "    L = loss_function(Y_hat, Y)\n",
    "    n, m = np.shape(L) \n",
    "    C = 1/m*np.sum(L)\n",
    "    return C"
   ]
  },
  {
   "cell_type": "markdown",
   "metadata": {},
   "source": [
    "$$ da^{[L]} = \\frac{-y}{\\hat{y}} + \\frac{(1-y)}{(1-\\hat{y})} $$\n",
    "$$ \\text{Being } \\hat{y} \\equiv \\text{Activation from the last layer } a^{[L]}$$"
   ]
  },
  {
   "cell_type": "code",
   "execution_count": 5,
   "metadata": {},
   "outputs": [],
   "source": [
    "# Here I start the backpropagation algorithm.\n",
    "\n",
    "\n"
   ]
  },
  {
   "cell_type": "code",
   "execution_count": 7,
   "metadata": {},
   "outputs": [
    {
     "ename": "Exception",
     "evalue": "The only available functions are: ['binary_class']",
     "output_type": "error",
     "traceback": [
      "\u001b[0;31m---------------------------------------------------------------------------\u001b[0m",
      "\u001b[0;31mException\u001b[0m                                 Traceback (most recent call last)",
      "\u001b[0;32m<ipython-input-7-447695e2b0ed>\u001b[0m in \u001b[0;36m<module>\u001b[0;34m\u001b[0m\n\u001b[1;32m     13\u001b[0m \u001b[0mY\u001b[0m \u001b[0;34m=\u001b[0m \u001b[0mnp\u001b[0m\u001b[0;34m.\u001b[0m\u001b[0mrandom\u001b[0m\u001b[0;34m.\u001b[0m\u001b[0mrandint\u001b[0m\u001b[0;34m(\u001b[0m\u001b[0mlow\u001b[0m\u001b[0;34m=\u001b[0m\u001b[0;36m0\u001b[0m\u001b[0;34m,\u001b[0m \u001b[0mhigh\u001b[0m\u001b[0;34m=\u001b[0m\u001b[0;36m2\u001b[0m\u001b[0;34m,\u001b[0m \u001b[0msize\u001b[0m\u001b[0;34m=\u001b[0m\u001b[0;34m(\u001b[0m\u001b[0mn_hat\u001b[0m\u001b[0;34m,\u001b[0m \u001b[0mm_hat\u001b[0m\u001b[0;34m)\u001b[0m\u001b[0;34m)\u001b[0m\u001b[0;34m\u001b[0m\u001b[0;34m\u001b[0m\u001b[0m\n\u001b[1;32m     14\u001b[0m \u001b[0;34m\u001b[0m\u001b[0m\n\u001b[0;32m---> 15\u001b[0;31m \u001b[0mcost\u001b[0m \u001b[0;34m=\u001b[0m \u001b[0mcost_function\u001b[0m\u001b[0;34m(\u001b[0m\u001b[0mY_hat\u001b[0m\u001b[0;34m,\u001b[0m \u001b[0mY\u001b[0m\u001b[0;34m,\u001b[0m \u001b[0;34m'binary_classs'\u001b[0m\u001b[0;34m)\u001b[0m\u001b[0;34m\u001b[0m\u001b[0;34m\u001b[0m\u001b[0m\n\u001b[0m\u001b[1;32m     16\u001b[0m \u001b[0mprint\u001b[0m\u001b[0;34m(\u001b[0m\u001b[0mcost\u001b[0m\u001b[0;34m)\u001b[0m\u001b[0;34m\u001b[0m\u001b[0;34m\u001b[0m\u001b[0m\n\u001b[1;32m     17\u001b[0m \u001b[0;34m\u001b[0m\u001b[0m\n",
      "\u001b[0;32m~/Desktop/Deep_Learning/main_functions.py\u001b[0m in \u001b[0;36mcost_function\u001b[0;34m(Y_hat, Y, name_loss)\u001b[0m\n\u001b[1;32m     92\u001b[0m         \u001b[0;32mreturn\u001b[0m \u001b[0mC\u001b[0m\u001b[0;34m\u001b[0m\u001b[0;34m\u001b[0m\u001b[0m\n\u001b[1;32m     93\u001b[0m     \u001b[0;32melse\u001b[0m\u001b[0;34m:\u001b[0m\u001b[0;34m\u001b[0m\u001b[0;34m\u001b[0m\u001b[0m\n\u001b[0;32m---> 94\u001b[0;31m         raise Exception(\"The only available functions are: \" \\\n\u001b[0m\u001b[1;32m     95\u001b[0m         + str(available_names))\n\u001b[1;32m     96\u001b[0m \u001b[0;34m\u001b[0m\u001b[0m\n",
      "\u001b[0;31mException\u001b[0m: The only available functions are: ['binary_class']"
     ]
    }
   ],
   "source": [
    "#Draft where I implement ideas\n",
    "# I use the seed to maintain the random numbers fixed\n",
    "np.random.seed(2)\n",
    "X = np.random.randn(5,10)*10\n",
    "neurons_by_layer = [5, 4, 4, 3, 1]\n",
    "number_layers = len(neurons_by_layer)\n",
    "activation_names = ['relu', 'relu', 'relu', 'sigmoid']\n",
    "\n",
    "weights, biases = init_weights(number_layers, neurons_by_layer)\n",
    "\n",
    "Z_cache, A_cache, Y_hat = forward_iteration(X, weights, biases, activation_names, number_layers, neurons_by_layer)\n",
    "n_hat, m_hat = Y_hat.shape\n",
    "Y = np.random.randint(low=0, high=2, size=(n_hat, m_hat))\n",
    "\n",
    "cost = cost_function(Y_hat, Y, 'binary_classs')\n",
    "print(cost)\n",
    "\n",
    "\n",
    "A_prev = np.random.randint(low=0, high=4, size =(4,15))\n",
    "dZ = np.random.randint(low=0, high=4, size =(3,15))\n",
    "\n",
    "\n"
   ]
  },
  {
   "cell_type": "code",
   "execution_count": null,
   "metadata": {},
   "outputs": [],
   "source": []
  }
 ],
 "metadata": {
  "kernelspec": {
   "display_name": "Python 3",
   "language": "python",
   "name": "python3"
  },
  "language_info": {
   "codemirror_mode": {
    "name": "ipython",
    "version": 3
   },
   "file_extension": ".py",
   "mimetype": "text/x-python",
   "name": "python",
   "nbconvert_exporter": "python",
   "pygments_lexer": "ipython3",
   "version": "3.8.5"
  }
 },
 "nbformat": 4,
 "nbformat_minor": 4
}
